{
 "cells": [
  {
   "cell_type": "code",
   "execution_count": null,
   "metadata": {},
   "outputs": [],
   "source": [
    "# Import Necessary Libraries\n",
    "import xarray as xr\n",
    "import numpy as np\n",
    "import tensorflow as tf\n",
    "\n",
    "# Import Model module\n",
    "from sys import path\n",
    "path.append('../mloceanbl/')\n",
    "import data\n",
    "import models"
   ]
  },
  {
   "cell_type": "code",
   "execution_count": null,
   "metadata": {},
   "outputs": [],
   "source": [
    "# Import data class (Need to have data files ready)\n",
    "lat_bounds = np.array([-10, 10])\n",
    "# lat_bounds = np.array([-45, -35])\n",
    "lon_bounds = np.array([-150, -120])\n",
    "# lon_bounds = np.array([60, 120])\n",
    "dataset = data.dataset(lat_bounds, lon_bounds)"
   ]
  },
  {
   "cell_type": "code",
   "execution_count": null,
   "metadata": {},
   "outputs": [],
   "source": [
    "# Create model class from available models:\n",
    "# Linear model: LINEAR\n",
    "# Feedforward Neural Network: ANN\n",
    "# Variational ANN: VANN\n",
    "# ANN with Dropout: DROPOUT\n",
    "# Variational AutoEncoder: VAE\n",
    "\n",
    "m = models.MLD_ML(dataset, 'ANN')\n",
    "# m.model.load_weights('./saved_model/...')"
   ]
  },
  {
   "cell_type": "code",
   "execution_count": null,
   "metadata": {},
   "outputs": [],
   "source": [
    "# Evaluate model on week 10\n",
    "mld_estimate = m.evaluate(10)\n",
    "\n",
    "# Graph estimate\n",
    "import matplotlib.pyplot as plt\n",
    "import cartopy.crs as ccrs \n",
    "\n",
    "fig = plt.figure(figsize=(10,8))\n",
    "ax = fig.add_subplot(1,1,1, projection=ccrs.PlateCarree())\n",
    "ax.tricontourf(m.X_l[:,0], m.X_l[:,1], mld_estimate, cmap='coolwarm', transform=ccrs.PlateCarree())\n",
    "ax.coastlines(resolution='110m')\n",
    "ax.gridlines(draw_labels=True)"
   ]
  },
  {
   "cell_type": "code",
   "execution_count": null,
   "metadata": {},
   "outputs": [],
   "source": [
    "# Train model\n",
    "losses = m.train(num_epochs = 200,\n",
    "            print_epoch = 1, \n",
    "            lr = 2e-4,\n",
    "            num_early_stopping = 10, \n",
    "            num_restarts = 3, \n",
    "            mini_batch_size = 25)"
   ]
  },
  {
   "cell_type": "code",
   "execution_count": null,
   "metadata": {},
   "outputs": [],
   "source": [
    "# Evaluate model on week 10\n",
    "mld_estimate = m.evaluate(10)\n",
    "\n",
    "# Graph estimate\n",
    "import matplotlib.pyplot as plt\n",
    "import cartopy.crs as ccrs \n",
    "\n",
    "fig = plt.figure(figsize=(10,8))\n",
    "ax = fig.add_subplot(1,1,1, projection=ccrs.PlateCarree())\n",
    "ax.tricontourf(m.X_l[:,0], m.X_l[:,1], mld_estimate, cmap='coolwarm', transform=ccrs.PlateCarree())\n",
    "ax.coastlines(resolution='110m')\n",
    "ax.gridlines(draw_labels=True)"
   ]
  },
  {
   "cell_type": "code",
   "execution_count": null,
   "metadata": {},
   "outputs": [],
   "source": []
  }
 ],
 "metadata": {
  "kernelspec": {
   "display_name": "Python 3",
   "language": "python",
   "name": "python3"
  },
  "language_info": {
   "codemirror_mode": {
    "name": "ipython",
    "version": 3
   },
   "file_extension": ".py",
   "mimetype": "text/x-python",
   "name": "python",
   "nbconvert_exporter": "python",
   "pygments_lexer": "ipython3",
   "version": "3.7.5"
  }
 },
 "nbformat": 4,
 "nbformat_minor": 4
}
