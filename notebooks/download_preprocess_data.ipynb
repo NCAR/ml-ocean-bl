{
 "cells": [
  {
   "cell_type": "code",
   "execution_count": null,
   "metadata": {},
   "outputs": [],
   "source": [
    "import xarray as xr\n",
    "import numpy as np\n",
    "\n",
    "from sys import path\n",
    "path.append('../mloceanbl/')\n",
    "import data"
   ]
  },
  {
   "cell_type": "code",
   "execution_count": null,
   "metadata": {},
   "outputs": [],
   "source": [
    "# Import surface data (see ../mloceanbl/wget_surface_data.sh)\n",
    "# Only download if you want to manually preprocess data. Otherwise, see download instructions below for already preprocessed data.\n",
    "\n",
    "#!wget  --user=fostdall_ucar --password=3G@yhVmgavmp#Jolf4p -r -np -nH -nd \"*.nc\" \"https://podaac-tools.jpl.nasa.gov/drive/files/allData/ghrsst/data/GDS2/L4/GLOB/REMSS/mw_OI/v5.0/\" -P ./data/sst \n",
    "#!wget  --user=fostdall_ucar --password=3G@yhVmgavmp#Jolf4p -nH -nd -r -np \"*.nc\" \"https://podaac-tools.jpl.nasa.gov/drive/files/allData/ghrsst/data/GDS2/L4/GLOB/REMSS/mw_OI/v5.0/\" -P ./data/sst \n",
    "#!wget  --user=fostdall_ucar --password=3G@yhVmgavmp#Jolf4p -nH -nd -r -np \".*nc\" \"https://podaac-tools.jpl.nasa.gov/drive/files/SalinityDensity/aquarius/L4/IPRC/v5/7day\" -P ./data/sss \n"
   ]
  },
  {
   "cell_type": "code",
   "execution_count": null,
   "metadata": {},
   "outputs": [],
   "source": [
    "# Import mld argo data\n",
    "#!wget \"https://zenodo.org/record/4291175/files/mldbmax.nc?download=1\" ./data\n"
   ]
  },
  {
   "cell_type": "code",
   "execution_count": null,
   "metadata": {},
   "outputs": [],
   "source": [
    "# Preprocess Downloaded Data\n",
    "\n",
    "#Input Paths\n",
    "sss_path = './data/sss/'\n",
    "sst_path = './data/sst/'\n",
    "ssh_path = './data/ssh/'\n",
    "mld_argo_dataset_path = './data/mldbmax.nc'\n",
    "\n",
    "# Output Paths\n",
    "surface_data_path = './data/sss_sst_ssh_anomalies.nc'\n",
    "mld_argo_output_path = './data/mldb_full_anomalies_stdanomalies_climatology_stdclimatology.nc'\n",
    "mld_clim_output_path = './data/mldb_climatology_climatologystd_binned.nc'\n",
    "\n",
    "# Preprocess surface -> mld data\n",
    "# data.preprocess_data(sss_path, sst_path, ssh_path, \n",
    "#                        surface_data_path,\n",
    "#                        mld_argo_dataset_path,\n",
    "#                        mld_argo_output_path,\n",
    "#                        mld_clim_output_path)\n",
    "\n",
    "# Preprocess only surface data\n",
    "# data.preprocess_surface_data(sss_path, sst_path, ssh_path, surface_data_path)\n",
    "\n",
    "# Preprocess only argo mld data\n",
    "# data.preprocess_argo_data(surface_data_path, mld_argo_dataset_path,\n",
    "#                            mld_argo_output_path, mld_clim_output_path)"
   ]
  },
  {
   "cell_type": "code",
   "execution_count": null,
   "metadata": {},
   "outputs": [],
   "source": [
    "# Download Preprocessed Datasets\n",
    "# Use only if you do not want to manually preprocess data as above.\n",
    "\n",
    "# !wget \"https://zenodo.org/record/4301074/files/mldb_climatology_climatologystd_binned.nc?download=1\"\n",
    "# !wget \"https://zenodo.org/record/4301074/files/mldb_full_anomalies_stdanomalies_climatology_stdclimatology.nc?download=1\"\n",
    "# !wget \"https://zenodo.org/record/4301074/files/sss_sst_ssh_anomalies.nc?download=1\""
   ]
  }
 ],
 "metadata": {
  "kernelspec": {
   "display_name": "Python 3",
   "language": "python",
   "name": "python3"
  },
  "language_info": {
   "codemirror_mode": {
    "name": "ipython",
    "version": 3
   },
   "file_extension": ".py",
   "mimetype": "text/x-python",
   "name": "python",
   "nbconvert_exporter": "python",
   "pygments_lexer": "ipython3",
   "version": "3.7.5"
  }
 },
 "nbformat": 4,
 "nbformat_minor": 4
}
