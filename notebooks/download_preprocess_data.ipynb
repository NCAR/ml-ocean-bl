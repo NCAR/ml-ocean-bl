{
 "cells": [
  {
   "cell_type": "code",
   "execution_count": 1,
   "metadata": {},
   "outputs": [],
   "source": [
    "import xarray as xr\n",
    "import numpy as np\n",
    "\n",
    "from sys import path\n",
    "path.append('../mloceanbl/')\n",
    "import data"
   ]
  },
  {
   "cell_type": "code",
   "execution_count": 3,
   "metadata": {},
   "outputs": [],
   "source": [
    "# Import surface data (see ../mloceanbl/wget_surface_data.sh)\n",
    "#!wget  --user=fostdall_ucar --password=3G@yhVmgavmp#Jolf4p -r -np -nH -nd \"*.nc\" \"https://podaac-tools.jpl.nasa.gov/drive/files/allData/ghrsst/data/GDS2/L4/GLOB/REMSS/mw_OI/v5.0/\" -P ./data/sst \n",
    "#!wget  --user=fostdall_ucar --password=3G@yhVmgavmp#Jolf4p -nH -nd -r -np \"*.nc\" \"https://podaac-tools.jpl.nasa.gov/drive/files/allData/ghrsst/data/GDS2/L4/GLOB/REMSS/mw_OI/v5.0/\" -P ./data/sst \n",
    "#!wget  --user=fostdall_ucar --password=3G@yhVmgavmp#Jolf4p -nH -nd -r -np \".*nc\" \"https://podaac-tools.jpl.nasa.gov/drive/files/SalinityDensity/aquarius/L4/IPRC/v5/7day\" -P ./data/sss "
   ]
  },
  {
   "cell_type": "code",
   "execution_count": 4,
   "metadata": {},
   "outputs": [],
   "source": [
    "# Import mld argo data\n"
   ]
  },
  {
   "cell_type": "code",
   "execution_count": 2,
   "metadata": {},
   "outputs": [
    {
     "name": "stdout",
     "output_type": "stream",
     "text": [
      "Beginning to Import Data\n",
      "Calculating Anomalies:  0%\n"
     ]
    },
    {
     "name": "stderr",
     "output_type": "stream",
     "text": [
      "/glade/work/fostdall/ncar_20191211/lib/python3.7/site-packages/pandas/core/indexing.py:205: SettingWithCopyWarning: \n",
      "A value is trying to be set on a copy of a slice from a DataFrame\n",
      "\n",
      "See the caveats in the documentation: http://pandas.pydata.org/pandas-docs/stable/user_guide/indexing.html#returning-a-view-versus-a-copy\n",
      "  self._setitem_with_indexer(indexer, value)\n"
     ]
    },
    {
     "name": "stdout",
     "output_type": "stream",
     "text": [
      "Calculating Anomalies: 10%\n",
      "Calculating Anomalies: 20%\n",
      "Calculating Anomalies: 30%\n",
      "Calculating Anomalies: 40%\n",
      "Calculating Anomalies: 50%\n",
      "Calculating Anomalies: 60%\n",
      "Calculating Anomalies: 70%\n",
      "Calculating Anomalies: 80%\n",
      "Calculating Anomalies: 90%\n",
      "Calculating Anomalies: 100%\n",
      "<xarray.Dataset>\n",
      "Dimensions:          (index: 448090)\n",
      "Coordinates:\n",
      "  * index            (index) int64 0 1 2 3 4 ... 448086 448087 448088 448089\n",
      "Data variables:\n",
      "    time             (index) datetime64[ns] 2011-08-19T12:05:59.999998656 ... 2015-06-19T11:59:02.000002816\n",
      "    lat              (index) float32 46.8966 45.6659 -29.657 ... -3.049 21.973\n",
      "    lon              (index) float32 -4.3423 -3.0 93.367 ... -17.765 -86.121\n",
      "    mldb             (index) float32 13.552888 10.0 ... 40.139122 80.405334\n",
      "    anomaly          (index) float32 -15.544597 -4.129836 ... 29.875294\n",
      "    std_anomaly      (index) float32 -0.8576872 -0.60525525 ... 2.049303\n",
      "    climatology      (index) float32 29.097485 14.129836 ... 46.947643 50.53004\n",
      "    climatology_std  (index) float32 18.123854 6.8232965 ... 8.17878 14.57827\n",
      "    week             (index) datetime64[ns] 2011-08-26T12:00:00 ... 2015-06-19T12:00:00\n",
      "Saving Climatologies\n"
     ]
    }
   ],
   "source": [
    "# Preprocess Downloaded Data\n",
    "\n",
    "#Input Paths\n",
    "sss_path = './data/sss/'\n",
    "sst_path = './data/sst/'\n",
    "ssh_path = './data/ssh/'\n",
    "mld_argo_dataset_path = './data/mldbmax.nc'\n",
    "\n",
    "# Output Paths\n",
    "surface_data_path = './data/sss_sst_ssh_anomalies.nc'\n",
    "mld_argo_output_path = './data/mldb_full_anomalies_stdanomalies_climatology_stdclimatology.nc'\n",
    "mld_clim_output_path = './data/mldb_climatology_climatologystd_binned.nc'\n",
    "\n",
    "# Preprocess surface -> mld data\n",
    "# data.preprocess_data(sss_path, sst_path, ssh_path, \n",
    "#                        surface_data_path,\n",
    "#                        mld_argo_dataset_path,\n",
    "#                        mld_argo_output_path,\n",
    "#                        mld_clim_output_path)\n",
    "\n",
    "# Preprocess only surface data\n",
    "# data.preprocess_surface_data(sss_path, sst_path, ssh_path, surface_data_path)\n",
    "\n",
    "# Preprocess only argo mld data\n",
    "data.preprocess_argo_data(surface_data_path, mld_argo_dataset_path,\n",
    "                           mld_argo_output_path, mld_clim_output_path)"
   ]
  },
  {
   "cell_type": "code",
   "execution_count": null,
   "metadata": {},
   "outputs": [],
   "source": [
    "# Download Preprocessed Datasets"
   ]
  }
 ],
 "metadata": {
  "kernelspec": {
   "display_name": "Python 3",
   "language": "python",
   "name": "python3"
  },
  "language_info": {
   "codemirror_mode": {
    "name": "ipython",
    "version": 3
   },
   "file_extension": ".py",
   "mimetype": "text/x-python",
   "name": "python",
   "nbconvert_exporter": "python",
   "pygments_lexer": "ipython3",
   "version": "3.7.5"
  }
 },
 "nbformat": 4,
 "nbformat_minor": 4
}
